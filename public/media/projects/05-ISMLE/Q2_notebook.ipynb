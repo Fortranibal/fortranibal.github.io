{
 "cells": [
  {
   "cell_type": "markdown",
   "metadata": {},
   "source": [
    "# Notebook for Practical Question 2\n",
    "\n",
    "Solar winds can be distinguished into four distinct categories: ejecta, coronal hole origin plasma, streamer belt origin plasma, and sector reversal origin plasma. The correct classification of the different solar winds is up to this day of great interest in astronomy. Here we have a database with about 300k hours of labeled solar wind data calculated from OMNI2 for the years 1965-2007 and as published by E. Camporeale, A. Care, J. Borovsky in Classification of Solar Wind with Machine Learning in the Journal of Geophysical Research.\n",
    "\n",
    "* (a) [5 Pts] Argue which classification model makes sense for such an application. Do not consider the Gaussian process classification laid out in the respective research paper.\n",
    "* (b) [12 Pts] Implement and train your previously described model.\n",
    "* (c) [3 Pts] Compare your trained classifier's performance against the classifier of the referenced paper and evaluate how the performance and characteristics compare."
   ]
  },
  {
   "cell_type": "markdown",
   "metadata": {},
   "source": [
    "# (a)\n",
    "We are dealing with a multiclass classification problem. A typical choice for such a problem is an ANN putting out a vector with the number of classes being the length of this output-vector.\n",
    "\n",
    "Besides the question which model to choose, it is of high importance to choose the right loss function. The CrossEntroyLoss is a common choice for this type of problem and implementation. It will teach the model to predict the probabilities of the input belonging to the respective classes into the output-vector with a negative value representing a very low probability."
   ]
  },
  {
   "cell_type": "markdown",
   "metadata": {},
   "source": [
    "# (b)\n",
    "## Loading the Data"
   ]
  },
  {
   "cell_type": "code",
   "execution_count": 1,
   "metadata": {},
   "outputs": [],
   "source": [
    "import matplotlib.pyplot as plt\n",
    "import seaborn as sns\n",
    "import numpy as np\n",
    "import os\n",
    "import pandas as pd\n",
    "import torch"
   ]
  },
  {
   "cell_type": "markdown",
   "metadata": {},
   "source": [
    "After which we can import the data"
   ]
  },
  {
   "cell_type": "code",
   "execution_count": 2,
   "metadata": {},
   "outputs": [],
   "source": [
    "from scipy.io import loadmat"
   ]
  },
  {
   "cell_type": "code",
   "execution_count": 3,
   "metadata": {},
   "outputs": [],
   "source": [
    "train = loadmat(\"data/parameters_classification.mat\")"
   ]
  },
  {
   "cell_type": "markdown",
   "metadata": {},
   "source": [
    "Training data is of shape (8951, 7)"
   ]
  },
  {
   "cell_type": "code",
   "execution_count": 4,
   "metadata": {},
   "outputs": [],
   "source": [
    "# X-train\n",
    "x_train = train['xtr']"
   ]
  },
  {
   "cell_type": "markdown",
   "metadata": {},
   "source": [
    "The target data gives us the classification of the individual input with +1 signifying class-membership for that input and -1 the opposite"
   ]
  },
  {
   "cell_type": "code",
   "execution_count": 5,
   "metadata": {},
   "outputs": [],
   "source": [
    "# Y-train\n",
    "coronal_holes = train['ytr_coronal_holes']\n",
    "ejecta = train['ytr_ejecta']\n",
    "sector_reversal = train['ytr_sector_reversal']\n",
    "streamer_belts = train['ytr_streamer_belts']"
   ]
  },
  {
   "cell_type": "markdown",
   "metadata": {},
   "source": [
    "With which we now seek to construct a normalized target vector, i.e. ```{0: \"coronal_holes\", 0.33: \"ejecta\", 0.66: \"sector_reversal\", 1: \"streamer_belts\"}```"
   ]
  },
  {
   "cell_type": "code",
   "execution_count": 6,
   "metadata": {},
   "outputs": [],
   "source": [
    "target_vector = []\n",
    "for i in range(len(x_train)):\n",
    "    if coronal_holes[i] == 1:\n",
    "        target_vector.append(0)\n",
    "    elif ejecta[i] == 1:\n",
    "        target_vector.append(0.33)\n",
    "    elif sector_reversal[i] == 1:\n",
    "        target_vector.append(0.66)\n",
    "    elif streamer_belts[i] == 1:\n",
    "        target_vector.append(1)\n",
    "    else:\n",
    "        raise NotImplementedError"
   ]
  },
  {
   "cell_type": "markdown",
   "metadata": {},
   "source": [
    "There exists no temporal components here so we can shuffle the dataset with a good conscience. We split the data into train and test set as done in the original paper and choose a ratio between train and test set of 20%. "
   ]
  },
  {
   "cell_type": "code",
   "execution_count": 7,
   "metadata": {},
   "outputs": [],
   "source": [
    "train_to_test_ratio = 0.2\n",
    "dataset_1 = torch.utils.data.TensorDataset(torch.Tensor(x_train), torch.Tensor(target_vector))\n",
    "train_length = int(len(x_train)*train_to_test_ratio/(1+train_to_test_ratio))\n",
    "test_length = len(x_train) - train_length\n",
    "dataset_train, dataset_test = torch.utils.data.random_split(dataset_1, [train_length, test_length])\n",
    "train_loader_1 = torch.utils.data.DataLoader(dataset_train, batch_size = 100, shuffle = True)\n",
    "test_loader_1 = torch.utils.data.DataLoader(dataset_test, batch_size = 100, shuffle = True)"
   ]
  },
  {
   "cell_type": "markdown",
   "metadata": {},
   "source": [
    "## Your Model to begin here"
   ]
  },
  {
   "cell_type": "markdown",
   "metadata": {},
   "source": [
    "Necessary imports"
   ]
  },
  {
   "cell_type": "code",
   "execution_count": 8,
   "metadata": {
    "scrolled": true
   },
   "outputs": [],
   "source": [
    "import torch.nn as nn\n",
    "import torch.optim as optim\n",
    "from torch.autograd import Variable\n",
    "import torch.nn.functional as F"
   ]
  },
  {
   "cell_type": "markdown",
   "metadata": {},
   "source": [
    "Defining our model-class with a typical structure for a multiclass classification problem.\n",
    "\n",
    "As described in (a) we will use an ANN putting out a vector with the number of classes being the length of the vector (in our case 4)."
   ]
  },
  {
   "cell_type": "code",
   "execution_count": 9,
   "metadata": {},
   "outputs": [],
   "source": [
    "class MulticlassClassification(nn.Module):\n",
    "    def __init__(self, num_feature, num_class):\n",
    "        super(MulticlassClassification, self).__init__()\n",
    "        \n",
    "        self.layer_1 = nn.Linear(num_feature, 512)\n",
    "        self.layer_2 = nn.Linear(512, 128)\n",
    "        self.layer_3 = nn.Linear(128, 64)\n",
    "        self.layer_out = nn.Linear(64, num_class) \n",
    "        \n",
    "        self.relu = nn.ReLU()\n",
    "        self.dropout = nn.Dropout(p=0.2)\n",
    "        self.batchnorm1 = nn.BatchNorm1d(512)\n",
    "        self.batchnorm2 = nn.BatchNorm1d(128)\n",
    "        self.batchnorm3 = nn.BatchNorm1d(64)\n",
    "        \n",
    "    def forward(self, x):\n",
    "        x = self.layer_1(x)\n",
    "        x = self.batchnorm1(x)\n",
    "        x = self.relu(x)\n",
    "        \n",
    "        x = self.layer_2(x)\n",
    "        x = self.batchnorm2(x)\n",
    "        x = self.relu(x)\n",
    "        x = self.dropout(x)\n",
    "        \n",
    "        x = self.layer_3(x)\n",
    "        x = self.batchnorm3(x)\n",
    "        x = self.relu(x)\n",
    "        x = self.dropout(x)\n",
    "        \n",
    "        x = self.layer_out(x)\n",
    "        \n",
    "        return x"
   ]
  },
  {
   "cell_type": "markdown",
   "metadata": {},
   "source": [
    "We chose CrossEntropyLoss as a loss function in (a). It performs best when all classes are equally distributed. So we first check if our classes are equally distributed and show the results in a pie chart."
   ]
  },
  {
   "cell_type": "code",
   "execution_count": 10,
   "metadata": {},
   "outputs": [
    {
     "data": {
      "image/png": "[encoded data removed]",
      "text/plain": [
       "<Figure size 432x288 with 1 Axes>"
      ]
     },
     "metadata": {},
     "output_type": "display_data"
    }
   ],
   "source": [
    "number_coronal_train = 0;\n",
    "number_ejecta_train = 0;\n",
    "number_belt_train = 0;\n",
    "number_revesual_train = 0;\n",
    "for i, data in enumerate(train_loader_1, 0):\n",
    "    inputs, labels = data\n",
    "    labels = Variable(torch.round(3*labels)).type(torch.LongTensor)\n",
    "    for label in labels:\n",
    "        if label == 0:\n",
    "            number_coronal_train = number_coronal_train + 1\n",
    "        elif label == 1:\n",
    "            number_ejecta_train = number_ejecta_train + 1\n",
    "        elif label == 2:\n",
    "            number_revesual_train = number_revesual_train + 1\n",
    "        elif label == 3:\n",
    "            number_belt_train = number_belt_train + 1\n",
    "class_labels = 'Coronal hole origin plasma', 'ejecta', 'streamer belt origin plasma', 'sector reversal origin plasma'\n",
    "sizes = [number_coronal_train, number_ejecta_train, number_belt_train, number_revesual_train]\n",
    "plt.pie(sizes, labels= class_labels)\n",
    "plt.title(\"Distribution of classes in the trainset\")\n",
    "plt.show()"
   ]
  },
  {
   "attachments": {},
   "cell_type": "markdown",
   "metadata": {},
   "source": [
    "We can see that our classes are not perfectly distributed with 'Coronal hole origin plasma' being over-represented and 'sector reversal origin plasma' and 'ejecta' being under-represented a bit. In order to correct these little misrepresenations, we will give the CrossEntropyLoss normed weights ensuring that all classes are equally represented in the loss function."
   ]
  },
  {
   "cell_type": "code",
   "execution_count": 11,
   "metadata": {},
   "outputs": [],
   "source": [
    "nSamples = [number_coronal_train, number_ejecta_train, number_revesual_train, number_belt_train]\n",
    "normedWeights = [1-(x / sum(nSamples)) for x in nSamples]\n",
    "normedWeights = torch.FloatTensor(normedWeights)"
   ]
  },
  {
   "attachments": {},
   "cell_type": "markdown",
   "metadata": {},
   "source": [
    "As we chose the CrossEntropyLoss as our loss function, the model will learn to predict the probabilities of the input belonging to the respective classes into this vector with a negative value representing a low probability. In case one would want to get the predicted classes instead, one would search for the index of the maximum value of the output-vector and then find the coressponding category for this index. For example having [-5, 3, -1, -10] as the output vector, the index of the maximum value is 1 and the corresponding category would be \"ejectal\". A implementation of this is used when evaluating the model in (c).\n",
    "\n",
    "We will use SGD as an optimizer with the learning rate 1e-3 being a typical choice here."
   ]
  },
  {
   "cell_type": "code",
   "execution_count": 12,
   "metadata": {
    "scrolled": true
   },
   "outputs": [],
   "source": [
    "model = MulticlassClassification(num_feature = 7, num_class = 4)\n",
    "loss_fn = nn.CrossEntropyLoss(weight = normedWeights)\n",
    "optimizer = optim.SGD(model.parameters(), lr=0.001)"
   ]
  },
  {
   "cell_type": "markdown",
   "metadata": {},
   "source": [
    "## Training the model\n",
    "As we are using CrossEntroyLoss as the LossFunction, we need to assign the labels in format long. Therefore we remap the labels from [0, 0.33, 0.66, 1] to [0, 1 2 3] as we could not represent our 4 classes."
   ]
  },
  {
   "cell_type": "code",
   "execution_count": 13,
   "metadata": {
    "scrolled": true
   },
   "outputs": [
    {
     "name": "stdout",
     "output_type": "stream",
     "text": [
      "epoch:     1 loss: 21.374\n",
      "epoch:   100 loss: 7.155\n",
      "epoch:   200 loss: 5.681\n",
      "epoch:   300 loss: 5.072\n",
      "epoch:   400 loss: 4.414\n",
      "epoch:   500 loss: 4.254\n",
      "epoch:   600 loss: 3.943\n",
      "epoch:   700 loss: 3.597\n",
      "epoch:   800 loss: 3.457\n",
      "epoch:   900 loss: 3.423\n",
      "epoch:  1000 loss: 2.984\n",
      "Finished Training\n"
     ]
    }
   ],
   "source": [
    "num_epochs = 1000\n",
    "losses = np.zeros(num_epochs)\n",
    "model.train()\n",
    "for epoch in range(num_epochs):  # loop over the dataset multiple times\n",
    "\n",
    "    running_loss = 0.0\n",
    "    for i, data in enumerate(train_loader_1, 0):\n",
    "        # get the inputs; data is a list of [inputs, labels]\n",
    "        inputs, labels = data\n",
    "        labels = Variable(torch.round(3*labels)).type(torch.LongTensor)\n",
    "        # zero the parameter gradients\n",
    "        optimizer.zero_grad()\n",
    "\n",
    "        # forward + backward + optimize\n",
    "        outputs = model(inputs)\n",
    "        loss = loss_fn(outputs, labels)\n",
    "        loss.backward()\n",
    "        optimizer.step()\n",
    "\n",
    "        # print statistics\n",
    "        running_loss += loss.item()\n",
    "    if epoch%100 == 99 or epoch == 0:\n",
    "        print('epoch: %5d loss: %.3f' %(epoch + 1, running_loss))\n",
    "    losses[epoch] = running_loss\n",
    "print('Finished Training')"
   ]
  },
  {
   "cell_type": "markdown",
   "metadata": {},
   "source": [
    "Plotting the losses over epochs will help us to get an understanding if our model was still improving at the last epoch. With the graph we can answer the following questions and may take reasonable action:\n",
    "1. can we improve with more iterations? If so, we may increase the number of epochs to improve our model's performance. The downside of this would be a longer training time and higher need for computational resources.\n",
    "2. did the model run for too many iterations and did not imrpove in the last ones? In this case we could save computational resources and run less epochs.\n",
    "\n",
    "We can also adapt the learning rate of our optimizer based on the graph. This would be necessary in case the graph is not (monotonously) decreasig (meaning our model is not improving over time). In this case, we would need to decrease the learning rate. When the graph is (monotonously) decreasing and our model is therefore improving over time, we could try to increase the learning rate to make the model improve faster. By increasing the learning rate too much though, we could end up in the first case and our model would not improve over time. Therefore we did not increase the learning rate based on this graph here, but it would be an option for making our model improving faster."
   ]
  },
  {
   "cell_type": "code",
   "execution_count": 14,
   "metadata": {
    "scrolled": false
   },
   "outputs": [
    {
     "data": {
      "text/plain": [
       "[<matplotlib.lines.Line2D at 0x2430cc02610>]"
      ]
     },
     "execution_count": 14,
     "metadata": {},
     "output_type": "execute_result"
    },
    {
     "data": {
      "image/png": "[encoded data removed]",
      "text/plain": [
       "<Figure size 432x288 with 1 Axes>"
      ]
     },
     "metadata": {
      "needs_background": "light"
     },
     "output_type": "display_data"
    }
   ],
   "source": [
    "plt.plot(losses)"
   ]
  },
  {
   "attachments": {},
   "cell_type": "markdown",
   "metadata": {},
   "source": [
    "In our case the learning rate is low enough that the loss is decreasing. We will therefore stay with the chosen learning rate.\n",
    "\n",
    "Looking at the last part of the graph is seems that we were still improving with more iterations, but not as fast as before. We will therefore stay with the chosen number of epochs, also to prevent that we are overfitting the training data and therefore performing worse on the test data. Here might be room for improvement of the model though by increasing the number of epochs while ensuring that we are not overfitting the training data."
   ]
  },
  {
   "cell_type": "markdown",
   "metadata": {},
   "source": [
    "# (c)\n",
    "As done in the original paper, we have split the data in a train and a test set. We will now run our model on the test set, which the model has not seen before in order to evaluate its performance. We will print the Confusion Matrix as well as the overall accuracy."
   ]
  },
  {
   "cell_type": "code",
   "execution_count": 15,
   "metadata": {},
   "outputs": [
    {
     "name": "stdout",
     "output_type": "stream",
     "text": [
      "Confusion Matrix\n",
      "                        Coronal hole origin     Ejecta  Streamer belt origin  Sector reversal origin\n",
      "Coronal hole origin               99.407817   0.078958              0.078958                0.434268\n",
      "Ejecta                             0.627353  88.958595              2.823087                7.590966\n",
      "Streamer belt origin               2.685950   3.925620             79.063361               14.325069\n",
      "Sector reversal origin             0.159490   2.179692              5.156831               92.503987\n",
      "Overall Accuracy:  91.47453308105469 %\n"
     ]
    }
   ],
   "source": [
    "samples = 0\n",
    "correct = 0\n",
    "\n",
    "number_coronal = 0\n",
    "correct_coronal = 0\n",
    "coronal_ejecta = 0\n",
    "coronal_belt = 0\n",
    "coronal_revesual = 0\n",
    "\n",
    "number_ejecta = 0\n",
    "correct_ejecta = 0\n",
    "ejecta_coronal = 0\n",
    "ejecta_belt = 0\n",
    "ejecta_revesual = 0\n",
    "\n",
    "number_belt = 0\n",
    "correct_belt = 0\n",
    "belt_coronal = 0\n",
    "belt_ejecta = 0\n",
    "belt_revesual = 0\n",
    "\n",
    "number_revesual = 0\n",
    "correct_revesual = 0\n",
    "revesual_coronal = 0\n",
    "revesual_ejecta = 0\n",
    "revesual_belt = 0\n",
    "\n",
    "model.eval()\n",
    "for i, data in enumerate(test_loader_1, 0):\n",
    "    inputs, labels = data\n",
    "    labels = Variable(torch.round(3*labels)).type(torch.LongTensor)\n",
    "    outputs = model(inputs)\n",
    "    samples = samples + len(labels)\n",
    "    correct = correct + sum(labels == torch.argmax(outputs, dim=1))\n",
    "    for i, label in enumerate(labels, 0):\n",
    "        if label == 0:\n",
    "            number_coronal = number_coronal + 1\n",
    "            if torch.argmax(outputs, dim=1)[i] == 0:\n",
    "                correct_coronal = correct_coronal + 1\n",
    "            elif torch.argmax(outputs, dim=1)[i] == 1:\n",
    "                coronal_ejecta = coronal_ejecta + 1\n",
    "            elif torch.argmax(outputs, dim=1)[i] == 2:\n",
    "                coronal_belt = coronal_belt + 1\n",
    "            elif torch.argmax(outputs, dim=1)[i] == 3:\n",
    "                coronal_revesual = coronal_revesual + 1\n",
    "\n",
    "        elif label == 1:\n",
    "            number_ejecta = number_ejecta + 1\n",
    "            if torch.argmax(outputs, dim=1)[i] == 1:\n",
    "                correct_ejecta= correct_ejecta + 1\n",
    "            elif torch.argmax(outputs, dim=1)[i] == 0:\n",
    "                ejecta_coronal = ejecta_coronal + 1\n",
    "            elif torch.argmax(outputs, dim=1)[i] == 2:\n",
    "                ejecta_belt = ejecta_belt + 1\n",
    "            elif torch.argmax(outputs, dim=1)[i] == 3:\n",
    "                ejecta_revesual = ejecta_revesual + 1\n",
    "\n",
    "        elif label == 2:\n",
    "            number_belt = number_belt + 1\n",
    "            if torch.argmax(outputs, dim=1)[i] == 2:\n",
    "                correct_belt = correct_belt + 1\n",
    "            elif torch.argmax(outputs, dim=1)[i] == 0:\n",
    "                belt_coronal = belt_coronal + 1\n",
    "            elif torch.argmax(outputs, dim=1)[i] == 1:\n",
    "                belt_ejecta = belt_ejecta + 1\n",
    "            elif torch.argmax(outputs, dim=1)[i] == 3:\n",
    "                belt_revesual = belt_revesual + 1    \n",
    "\n",
    "        elif label == 3:\n",
    "            number_revesual = number_revesual + 1\n",
    "            if torch.argmax(outputs, dim=1)[i] == 3:\n",
    "                correct_revesual = correct_revesual + 1\n",
    "            elif torch.argmax(outputs, dim=1)[i] == 0:\n",
    "                revesual_coronal = revesual_coronal + 1\n",
    "            elif torch.argmax(outputs, dim=1)[i] == 1:\n",
    "                revesual_ejecta = revesual_ejecta + 1\n",
    "            elif torch.argmax(outputs, dim=1)[i] == 2:\n",
    "                revesual_belt = revesual_belt + 1  \n",
    "\n",
    "coronal_performance = np.array([correct_coronal, coronal_ejecta, coronal_belt, coronal_revesual])\n",
    "ejecta_performance = np.array([ejecta_coronal, correct_ejecta, ejecta_belt, ejecta_revesual])\n",
    "belt_performance = np.array([belt_coronal, belt_ejecta, correct_belt, belt_revesual])\n",
    "revesual_performance = np.array([revesual_coronal, revesual_ejecta, revesual_belt, correct_revesual])\n",
    "performance = np.array([coronal_performance*(100/number_coronal),\n",
    "                       ejecta_performance*100/number_ejecta,\n",
    "                       belt_performance*100/number_belt,\n",
    "                       revesual_performance*100/number_revesual]).astype(np.float)\n",
    "class_labels_short = ['Coronal hole origin', 'Ejecta', 'Streamer belt origin', 'Sector reversal origin']\n",
    "df_performance = pd.DataFrame(performance, class_labels_short, class_labels_short)\n",
    "print(\"Confusion Matrix\")\n",
    "with pd.option_context('expand_frame_repr', False):\n",
    "    print(df_performance)\n",
    "print('Overall Accuracy: ', 100*np.float(correct/samples), '%')"
   ]
  },
  {
   "attachments": {},
   "cell_type": "markdown",
   "metadata": {},
   "source": [
    "We can see that that the model in the original papaer was performing better in every observed category with the difference in performance varying heavily between 0.2% for the 'coronal hole origin' category and 18.6% for the 'Streamer belt origin' category. The original paper found that the performance is varying for the different categories, something we also can see in our correlation matrix. Another interesting similarity is that both our and the model from the original paper were performing best on the 'coronal hole origin' category which implies that it can be better seperated from the other categories. For the other categories our results are differing a bit. Especially for the 'Streamer belt origin' category our model is performing much worse than the one from the original paper (79.1% vs. 96.6% true positive).\n",
    "\n",
    "Using a more complex and deeper ANN and running the training for more epochs, one might be able to close the gap or even perform better than the model in the original paper. This approach was not followed here due to time and performance reasons."
   ]
  }
 ],
 "metadata": {
  "kernelspec": {
   "display_name": "Python 3",
   "language": "python",
   "name": "python3"
  },
  "language_info": {
   "codemirror_mode": {
    "name": "ipython",
    "version": 3
   },
   "file_extension": ".py",
   "mimetype": "text/x-python",
   "name": "python",
   "nbconvert_exporter": "python",
   "pygments_lexer": "ipython3",
   "version": "3.11.1 (main, Dec 23 2022, 09:28:24) [Clang 14.0.0 (clang-1400.0.29.202)]"
  },
  "vscode": {
   "interpreter": {
    "hash": "5c7b89af1651d0b8571dde13640ecdccf7d5a6204171d6ab33e7c296e100e08a"
   }
  }
 },
 "nbformat": 4,
 "nbformat_minor": 2
}
